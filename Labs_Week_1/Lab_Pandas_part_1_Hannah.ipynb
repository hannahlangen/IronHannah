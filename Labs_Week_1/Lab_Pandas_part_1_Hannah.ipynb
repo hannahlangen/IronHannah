{
 "cells": [
  {
   "cell_type": "markdown",
   "metadata": {
    "id": "N1YkD9XI6Fg3"
   },
   "source": [
    "# Using Pandas"
   ]
  },
  {
   "cell_type": "code",
   "execution_count": 4,
   "metadata": {
    "executionInfo": {
     "elapsed": 4,
     "status": "ok",
     "timestamp": 1623140082185,
     "user": {
      "displayName": "Ignacio Soteras",
      "photoUrl": "",
      "userId": "02050793736257155229"
     },
     "user_tz": -120
    },
    "id": "jL4kjGt66Fg5"
   },
   "outputs": [],
   "source": [
    "import pandas as pd\n",
    "import numpy as np\n",
    "pd.set_option('display.max_rows', 200)\n",
    "## to make it possible to display multiple output inside one cell \n",
    "from IPython.core.interactiveshell import InteractiveShell\n",
    "InteractiveShell.ast_node_interactivity = \"all\""
   ]
  },
  {
   "cell_type": "markdown",
   "metadata": {},
   "source": [
    "<b>load the data from the vehicles.csv file into pandas data frame"
   ]
  },
  {
   "cell_type": "code",
   "execution_count": 5,
   "metadata": {
    "executionInfo": {
     "elapsed": 1346,
     "status": "ok",
     "timestamp": 1623140174431,
     "user": {
      "displayName": "Ignacio Soteras",
      "photoUrl": "",
      "userId": "02050793736257155229"
     },
     "user_tz": -120
    },
    "id": "GVHPs2Qa6Fg5"
   },
   "outputs": [
    {
     "name": "stdout",
     "output_type": "stream",
     "text": [
      "                   Make                Model  Year  Engine Displacement  \\\n",
      "0            AM General    DJ Po Vehicle 2WD  1984                  2.5   \n",
      "1            AM General     FJ8c Post Office  1984                  4.2   \n",
      "2            AM General  Post Office DJ5 2WD  1985                  2.5   \n",
      "3            AM General  Post Office DJ8 2WD  1985                  4.2   \n",
      "4      ASC Incorporated                  GNX  1987                  3.8   \n",
      "...                 ...                  ...   ...                  ...   \n",
      "35947             smart         fortwo coupe  2013                  1.0   \n",
      "35948             smart         fortwo coupe  2014                  1.0   \n",
      "35949             smart         fortwo coupe  2015                  1.0   \n",
      "35950             smart         fortwo coupe  2016                  0.9   \n",
      "35951             smart         fortwo coupe  2016                  0.9   \n",
      "\n",
      "       Cylinders     Transmission        Drivetrain  \\\n",
      "0            4.0  Automatic 3-spd     2-Wheel Drive   \n",
      "1            6.0  Automatic 3-spd     2-Wheel Drive   \n",
      "2            4.0  Automatic 3-spd  Rear-Wheel Drive   \n",
      "3            6.0  Automatic 3-spd  Rear-Wheel Drive   \n",
      "4            6.0  Automatic 4-spd  Rear-Wheel Drive   \n",
      "...          ...              ...               ...   \n",
      "35947        3.0        Auto(AM5)  Rear-Wheel Drive   \n",
      "35948        3.0        Auto(AM5)  Rear-Wheel Drive   \n",
      "35949        3.0        Auto(AM5)  Rear-Wheel Drive   \n",
      "35950        3.0        Auto(AM6)  Rear-Wheel Drive   \n",
      "35951        3.0     Manual 5-spd  Rear-Wheel Drive   \n",
      "\n",
      "                     Vehicle Class Fuel Type  Fuel Barrels/Year  City MPG  \\\n",
      "0      Special Purpose Vehicle 2WD   Regular          19.388824        18   \n",
      "1      Special Purpose Vehicle 2WD   Regular          25.354615        13   \n",
      "2      Special Purpose Vehicle 2WD   Regular          20.600625        16   \n",
      "3      Special Purpose Vehicle 2WD   Regular          25.354615        13   \n",
      "4                     Midsize Cars   Premium          20.600625        14   \n",
      "...                            ...       ...                ...       ...   \n",
      "35947                  Two Seaters   Premium           9.155833        34   \n",
      "35948                  Two Seaters   Premium           9.155833        34   \n",
      "35949                  Two Seaters   Premium           9.155833        34   \n",
      "35950                  Two Seaters   Premium           9.155833        34   \n",
      "35951                  Two Seaters   Premium           9.417429        32   \n",
      "\n",
      "       Highway MPG  Combined MPG  CO2 Emission Grams/Mile  Fuel Cost/Year  \n",
      "0               17            17               522.764706            1950  \n",
      "1               13            13               683.615385            2550  \n",
      "2               17            16               555.437500            2100  \n",
      "3               13            13               683.615385            2550  \n",
      "4               21            16               555.437500            2550  \n",
      "...            ...           ...                      ...             ...  \n",
      "35947           38            36               244.000000            1100  \n",
      "35948           38            36               243.000000            1100  \n",
      "35949           38            36               244.000000            1100  \n",
      "35950           39            36               246.000000            1100  \n",
      "35951           39            35               255.000000            1150  \n",
      "\n",
      "[35952 rows x 15 columns]\n"
     ]
    }
   ],
   "source": [
    "## Your Code here\n",
    "vehicles_df = pd.read_csv (r'data/vehicles.csv')\n",
    "print (vehicles_df)"
   ]
  },
  {
   "cell_type": "markdown",
   "metadata": {
    "id": "Yk72_YtZ6Fg5"
   },
   "source": [
    "First exploration of the dataset:\n",
    "\n",
    "- How many observations does it have?\n",
    "- Look at all the columns: do you understand what they mean?\n",
    "- Look at the raw data: do you see anything weird?\n",
    "- Look at the data types: are they the expected ones for the information the column contains?"
   ]
  },
  {
   "cell_type": "markdown",
   "metadata": {
    "id": "tqcFYXUk6Fg6"
   },
   "source": [
    "### Cleaning and wrangling data\n",
    "\n",
    "- Some car brand names refer to the same brand. Replace all brand names that contain the word \"Dutton\" for simply \"Dutton\". If you find similar examples, clean their names too. Use `loc` with boolean indexing.\n",
    "\n",
    "- Convert CO2 Emissions from Grams/Mile to Grams/Km\n",
    "\n",
    "- Create a binary column that solely indicates if the transmission of a car is automatic or manual. Use `pandas.Series.str.startswith` and .\n",
    "\n",
    "- convert MPG columns to km_per_liter"
   ]
  },
  {
   "cell_type": "code",
   "execution_count": 6,
   "metadata": {
    "colab": {
     "base_uri": "https://localhost:8080/"
    },
    "executionInfo": {
     "elapsed": 239,
     "status": "ok",
     "timestamp": 1623140685861,
     "user": {
      "displayName": "Ignacio Soteras",
      "photoUrl": "",
      "userId": "02050793736257155229"
     },
     "user_tz": -120
    },
    "id": "jPtYqxszRc_h",
    "outputId": "b7a82779-98d2-4f55-e8d7-4a9202cc1274"
   },
   "outputs": [
    {
     "data": {
      "text/plain": [
       "0        False\n",
       "1        False\n",
       "2        False\n",
       "3        False\n",
       "4        False\n",
       "         ...  \n",
       "35947    False\n",
       "35948    False\n",
       "35949    False\n",
       "35950    False\n",
       "35951    False\n",
       "Name: Make, Length: 35952, dtype: bool"
      ]
     },
     "execution_count": 6,
     "metadata": {},
     "output_type": "execute_result"
    }
   ],
   "source": [
    "# shows where \"Dutton\" is contained in the string\n",
    "vehicles_df[\"Make\"].str.contains(\"Dutton\") "
   ]
  },
  {
   "cell_type": "code",
   "execution_count": 77,
   "metadata": {},
   "outputs": [
    {
     "data": {
      "text/plain": [
       "11012    Dutton\n",
       "30164    Dutton\n",
       "31754    Dutton\n",
       "Name: Make, dtype: object"
      ]
     },
     "execution_count": 77,
     "metadata": {},
     "output_type": "execute_result"
    }
   ],
   "source": [
    "#select column, filter\n",
    "vehicles_df['Make'][vehicles_df[\"Make\"].str.contains(\"Dutton\")] "
   ]
  },
  {
   "cell_type": "code",
   "execution_count": 8,
   "metadata": {},
   "outputs": [
    {
     "data": {
      "text/plain": [
       "0              AM General\n",
       "1              AM General\n",
       "2              AM General\n",
       "3              AM General\n",
       "4        ASC Incorporated\n",
       "               ...       \n",
       "35947               smart\n",
       "35948               smart\n",
       "35949               smart\n",
       "35950               smart\n",
       "35951               smart\n",
       "Name: Make, Length: 35952, dtype: object"
      ]
     },
     "execution_count": 8,
     "metadata": {},
     "output_type": "execute_result"
    }
   ],
   "source": [
    "vehicles_df[\"Make\"]"
   ]
  },
  {
   "cell_type": "code",
   "execution_count": 84,
   "metadata": {},
   "outputs": [
    {
     "ename": "SyntaxError",
     "evalue": "cannot assign to function call (3014328620.py, line 1)",
     "output_type": "error",
     "traceback": [
      "\u001b[0;36m  File \u001b[0;32m\"/var/folders/jl/wz2cfppd1qv9v95b9l5nqm3w0000gn/T/ipykernel_1661/3014328620.py\"\u001b[0;36m, line \u001b[0;32m1\u001b[0m\n\u001b[0;31m    vehicles_df[\"Make\"].where([vehicles_df[\"Make\"].str.contains(\"Dutton\")]), other=Dutton, inplace=True)\u001b[0m\n\u001b[0m    ^\u001b[0m\n\u001b[0;31mSyntaxError\u001b[0m\u001b[0;31m:\u001b[0m cannot assign to function call\n"
     ]
    }
   ],
   "source": [
    "vehicles_df[\"Make\"].where([vehicles_df[\"Make\"].str.contains(\"Dutton\")]), other=Dutton, inplace=True)"
   ]
  },
  {
   "cell_type": "code",
   "execution_count": 9,
   "metadata": {},
   "outputs": [],
   "source": [
    "vehicles_df[\"CO2 Emission Grams/Mile\"]=vehicles_df[\"CO2 Emission Grams/Mile\"]*(1/1.60934)"
   ]
  },
  {
   "cell_type": "code",
   "execution_count": 10,
   "metadata": {},
   "outputs": [
    {
     "name": "stdout",
     "output_type": "stream",
     "text": [
      "<class 'pandas.core.frame.DataFrame'>\n",
      "RangeIndex: 35952 entries, 0 to 35951\n",
      "Data columns (total 15 columns):\n",
      " #   Column                   Non-Null Count  Dtype  \n",
      "---  ------                   --------------  -----  \n",
      " 0   Make                     35952 non-null  object \n",
      " 1   Model                    35952 non-null  object \n",
      " 2   Year                     35952 non-null  int64  \n",
      " 3   Engine Displacement      35952 non-null  float64\n",
      " 4   Cylinders                35952 non-null  float64\n",
      " 5   Transmission             35952 non-null  object \n",
      " 6   Drivetrain               35952 non-null  object \n",
      " 7   Vehicle Class            35952 non-null  object \n",
      " 8   Fuel Type                35952 non-null  object \n",
      " 9   Fuel Barrels/Year        35952 non-null  float64\n",
      " 10  City MPG                 35952 non-null  int64  \n",
      " 11  Highway MPG              35952 non-null  int64  \n",
      " 12  Combined MPG             35952 non-null  int64  \n",
      " 13  CO2 Emission Grams/Mile  35952 non-null  float64\n",
      " 14  Fuel Cost/Year           35952 non-null  int64  \n",
      "dtypes: float64(4), int64(5), object(6)\n",
      "memory usage: 4.1+ MB\n"
     ]
    }
   ],
   "source": [
    "vehicles_df.info()"
   ]
  },
  {
   "cell_type": "code",
   "execution_count": 19,
   "metadata": {},
   "outputs": [
    {
     "data": {
      "text/plain": [
       "Make           Model               Year  Engine Displacement  Cylinders  Transmission     Drivetrain        Vehicle Class                Fuel Type  Fuel Barrels/Year  City MPG  Highway MPG  Combined MPG  CO2 Emission Grams/Mile  Fuel Cost/Year\n",
       "AM General     DJ Po Vehicle 2WD   1984  2.5                  4.0        Automatic 3-spd  2-Wheel Drive     Special Purpose Vehicle 2WD  Regular    19.388824          18        17           17            324.831736               1950              1\n",
       "Mercedes-Benz  E500                1994  5.0                  8.0        Automatic 4-spd  Rear-Wheel Drive  Compact Cars                 Premium    20.600625          14        18           16            345.133719               2550              1\n",
       "               E430                2000  4.3                  8.0        Automatic 5-spd  Rear-Wheel Drive  Midsize Cars                 Premium    18.311667          16        22           18            306.785528               2250              1\n",
       "                                   2001  4.3                  8.0        Automatic 5-spd  Rear-Wheel Drive  Midsize Cars                 Premium    17.347895          16        23           19            290.638922               2150              1\n",
       "                                   2002  4.3                  8.0        Automatic 5-spd  Rear-Wheel Drive  Midsize Cars                 Premium    18.311667          16        23           18            306.785528               2250              1\n",
       "                                                                                                                                                                                                                                                      ..\n",
       "Ford           E250 Econoline 2WD  1996  5.8                  8.0        Automatic 4-spd  Rear-Wheel Drive  Vans                         Regular    25.354615          11        16           13            424.779962               2550              1\n",
       "                                         4.9                  6.0        Automatic 4-spd  Rear-Wheel Drive  Vans                         Regular    27.467500          11        15           12            460.178293               2800              1\n",
       "                                                                         Automatic 3-spd  Rear-Wheel Drive  Vans                         Regular    27.467500          11        13           12            460.178293               2800              1\n",
       "                                   1995  5.8                  8.0        Automatic 4-spd  Rear-Wheel Drive  Vans                         Regular    27.467500          11        15           12            460.178293               2800              1\n",
       "smart          fortwo coupe        2016  0.9                  3.0        Manual 5-spd     Rear-Wheel Drive  Two Seaters                  Premium    9.417429           32        39           35            158.450048               1150              1\n",
       "Length: 35952, dtype: int64"
      ]
     },
     "execution_count": 19,
     "metadata": {},
     "output_type": "execute_result"
    }
   ],
   "source": [
    "vehicles_df.value_counts()"
   ]
  },
  {
   "cell_type": "markdown",
   "metadata": {
    "id": "e_r1ZfaxWfaq"
   },
   "source": [
    "Converting Grams/Mile to Grams/Km\n",
    "\n",
    "1 Mile = 1.60934 Km\n",
    "\n",
    "Grams/Mile * Mile/Km -> Grams/Mile * 1 Mile/1.60934Km\n",
    "\n",
    "$$ \\frac{Grams}{Mile} * \\frac{Mile}{Km} $$\n",
    "\n",
    "$$ \\frac{Grams}{Mile} * \\frac{1 Mile}{1.60934Km}  $$"
   ]
  },
  {
   "cell_type": "markdown",
   "metadata": {
    "id": "R-jWHEisa3nF"
   },
   "source": [
    "convert MPG columns to km_per_liter\n",
    "\n",
    "MPG = Miles/Gallon -> Km/Liter\n",
    "\n",
    "1 Mile = 1.60934 Km\n",
    "\n",
    "1 Gallon = 3.78541 Liters\n",
    "\n",
    "$$ \\frac{Miles}{Gallon} -> \\frac{Miles}{Gallon} * \\frac{Km}{Miles} * \\frac{Gallon}{Liters}$$\n",
    "\n",
    "$$ \\frac{Miles}{Gallon} -> \\frac{Miles}{Gallon} * \\frac{1.60934Km}{ 1Miles} * \\frac{1 Gallon}{3.78541 Liters}$$\n",
    "\n",
    "* ( 1.60934 / 3.78541 )\n"
   ]
  },
  {
   "cell_type": "code",
   "execution_count": 20,
   "metadata": {},
   "outputs": [
    {
     "data": {
      "text/plain": [
       "0        Automatic 3-spd\n",
       "1        Automatic 3-spd\n",
       "2        Automatic 3-spd\n",
       "3        Automatic 3-spd\n",
       "4        Automatic 4-spd\n",
       "              ...       \n",
       "35920    Automatic 4-spd\n",
       "35940     Automatic (S5)\n",
       "35941    Automatic (AM5)\n",
       "35942     Automatic (S5)\n",
       "35943    Automatic (AM5)\n",
       "Name: Transmission, Length: 23408, dtype: object"
      ]
     },
     "execution_count": 20,
     "metadata": {},
     "output_type": "execute_result"
    }
   ],
   "source": [
    "vehicles_df['Transmission'][vehicles_df[\"Transmission\"].str.contains(\"Automatic\")]"
   ]
  },
  {
   "cell_type": "code",
   "execution_count": 21,
   "metadata": {},
   "outputs": [
    {
     "data": {
      "text/plain": [
       "6        Manual 5-spd\n",
       "9        Manual 5-spd\n",
       "12       Manual 5-spd\n",
       "23       Manual 6-spd\n",
       "40       Manual 6-spd\n",
       "             ...     \n",
       "35929    Manual 4-spd\n",
       "35930    Manual 5-spd\n",
       "35931    Manual 4-spd\n",
       "35939    Manual 5-spd\n",
       "35951    Manual 5-spd\n",
       "Name: Transmission, Length: 11662, dtype: object"
      ]
     },
     "execution_count": 21,
     "metadata": {},
     "output_type": "execute_result"
    }
   ],
   "source": [
    "vehicles_df['Transmission'][vehicles_df[\"Transmission\"].str.contains(\"Manual\")]"
   ]
  },
  {
   "cell_type": "code",
   "execution_count": 53,
   "metadata": {},
   "outputs": [
    {
     "ename": "SyntaxError",
     "evalue": "invalid syntax (1282405445.py, line 2)",
     "output_type": "error",
     "traceback": [
      "\u001b[0;36m  File \u001b[0;32m\"/var/folders/jl/wz2cfppd1qv9v95b9l5nqm3w0000gn/T/ipykernel_1661/1282405445.py\"\u001b[0;36m, line \u001b[0;32m2\u001b[0m\n\u001b[0;31m    for vehicles_df['Transmission'][vehicles_df[\"Transmission\"].str.contains(\"Manual\")]\u001b[0m\n\u001b[0m                                                                                       ^\u001b[0m\n\u001b[0;31mSyntaxError\u001b[0m\u001b[0;31m:\u001b[0m invalid syntax\n"
     ]
    }
   ],
   "source": [
    "vehicles_df[Transmission_new] = 0\n",
    "for vehicles_df['Transmission'][vehicles_df[\"Transmission\"].str.contains(\"Manual\")]\n",
    "print(\"Manual\")\n",
    "vehicles_df['Transmission'][vehicles_df[\"Transmission\"].str.contains(\"Automatic\")]\n",
    " [Transmission_new] = \"Automatic\""
   ]
  },
  {
   "cell_type": "markdown",
   "metadata": {
    "id": "SRZZJAPQ6Fg6"
   },
   "source": [
    "### Gathering insights:\n",
    "\n",
    "- How many car makers are there? How many models? Which car maker has the most cars in the dataset?\n",
    "\n",
    "- When were these cars made? How big is the engine of these cars?\n",
    "\n",
    "- What's the frequency of different transmissions, drivetrains and fuel types?\n",
    "\n",
    "- What's the car that consumes the least/most fuel?"
   ]
  },
  {
   "cell_type": "code",
   "execution_count": 57,
   "metadata": {
    "colab": {
     "base_uri": "https://localhost:8080/"
    },
    "executionInfo": {
     "elapsed": 346,
     "status": "ok",
     "timestamp": 1623143226628,
     "user": {
      "displayName": "Ignacio Soteras",
      "photoUrl": "",
      "userId": "02050793736257155229"
     },
     "user_tz": -120
    },
    "id": "LS-EOV3f6Fg7",
    "outputId": "7244f51d-279e-4a71-ba35-63d2969f5a74"
   },
   "outputs": [
    {
     "data": {
      "text/plain": [
       "Chevrolet                             3643\n",
       "Ford                                  2946\n",
       "Dodge                                 2360\n",
       "GMC                                   2347\n",
       "Toyota                                1836\n",
       "BMW                                   1677\n",
       "Mercedes-Benz                         1284\n",
       "Nissan                                1253\n",
       "Volkswagen                            1047\n",
       "Mitsubishi                             950\n",
       "Mazda                                  915\n",
       "Audi                                   890\n",
       "Porsche                                862\n",
       "Honda                                  836\n",
       "Jeep                                   829\n",
       "Pontiac                                784\n",
       "Subaru                                 781\n",
       "Volvo                                  717\n",
       "Hyundai                                662\n",
       "Chrysler                               641\n",
       "Buick                                  537\n",
       "Mercury                                532\n",
       "Suzuki                                 512\n",
       "Cadillac                               508\n",
       "Kia                                    493\n",
       "Plymouth                               456\n",
       "Saab                                   410\n",
       "Isuzu                                  409\n",
       "Lexus                                  397\n",
       "Oldsmobile                             376\n",
       "Infiniti                               345\n",
       "Jaguar                                 343\n",
       "MINI                                   320\n",
       "Acura                                  302\n",
       "Saturn                                 278\n",
       "Lincoln                                273\n",
       "Ferrari                                208\n",
       "Rolls-Royce                            160\n",
       "Eagle                                  156\n",
       "Geo                                    144\n",
       "Land Rover                             142\n",
       "Aston Martin                           133\n",
       "Bentley                                116\n",
       "Maserati                               111\n",
       "Lamborghini                            104\n",
       "Scion                                   83\n",
       "Peugeot                                 74\n",
       "Daewoo                                  67\n",
       "Ram                                     57\n",
       "Roush Performance                       53\n",
       "Lotus                                   53\n",
       "Fiat                                    43\n",
       "Alfa Romeo                              41\n",
       "J.K. Motors                             36\n",
       "Renault                                 33\n",
       "Wallace Environmental                   32\n",
       "Maybach                                 31\n",
       "American Motors Corporation             22\n",
       "smart                                   20\n",
       "Hummer                                  19\n",
       "Daihatsu                                17\n",
       "CX Automotive                           16\n",
       "Merkur                                  14\n",
       "Federal Coach                           14\n",
       "Import Trade Services                   13\n",
       "McLaren Automotive                      13\n",
       "Spyker                                  13\n",
       "Sterling                                12\n",
       "Bugatti                                  8\n",
       "Yugo                                     8\n",
       "Genesis                                  7\n",
       "Tecstar, LP                              6\n",
       "Mcevoy Motors                            6\n",
       "Saleen                                   5\n",
       "VPG                                      5\n",
       "Bertone                                  5\n",
       "Panther Car Company Limited              4\n",
       "Saleen Performance                       4\n",
       "AM General                               4\n",
       "TVR Engineering Ltd                      4\n",
       "Grumman Olson                            4\n",
       "Texas Coach Company                      4\n",
       "Vector                                   4\n",
       "Autokraft Limited                        4\n",
       "Morgan                                   3\n",
       "Evans Automobiles                        3\n",
       "Dacia                                    3\n",
       "Dabryan Coach Builders Inc               3\n",
       "Consulier Industries Inc                 3\n",
       "BMW Alpina                               3\n",
       "Bitter Gmbh and Co. Kg                   3\n",
       "SRT                                      2\n",
       "Ruf Automobile Gmbh                      2\n",
       "CCC Engineering                          2\n",
       "Red Shift Ltd.                           2\n",
       "Bill Dovell Motor Car Company            2\n",
       "Quantum Technologies                     2\n",
       "Pagani                                   2\n",
       "PAS, Inc                                 2\n",
       "Laforza Automobile Inc                   2\n",
       "Mobility Ventures LLC                    2\n",
       "Pininfarina                              2\n",
       "PAS Inc - GMC                            2\n",
       "Import Foreign Auto Sales Inc            1\n",
       "London Taxi                              1\n",
       "London Coach Co Inc                      1\n",
       "Qvale                                    1\n",
       "Grumman Allied Industries                1\n",
       "Vixen Motor Company                      1\n",
       "Volga Associated Automobile              1\n",
       "ASC Incorporated                         1\n",
       "Isis Imports Ltd                         1\n",
       "Aurora Cars Ltd                          1\n",
       "JBA Motorcars, Inc.                      1\n",
       "Mahindra                                 1\n",
       "Superior Coaches Div E.p. Dutton         1\n",
       "Goldacre                                 1\n",
       "General Motors                           1\n",
       "Fisker                                   1\n",
       "Shelby                                   1\n",
       "Panos                                    1\n",
       "Panoz Auto-Development                   1\n",
       "Excalibur Autos                          1\n",
       "S and S Coach Company  E.p. Dutton       1\n",
       "Environmental Rsch and Devp Corp         1\n",
       "E. P. Dutton, Inc.                       1\n",
       "Lambda Control Systems                   1\n",
       "Name: Make, dtype: int64"
      ]
     },
     "execution_count": 57,
     "metadata": {},
     "output_type": "execute_result"
    }
   ],
   "source": [
    "vehicles_df[\"Make\"].value_counts()\n",
    "#Chevrolet has the most cars in the dataset\n"
   ]
  },
  {
   "cell_type": "code",
   "execution_count": 58,
   "metadata": {},
   "outputs": [
    {
     "data": {
      "text/plain": [
       "F150 Pickup 2WD      197\n",
       "F150 Pickup 4WD      179\n",
       "Truck 2WD            173\n",
       "Mustang              170\n",
       "Jetta                169\n",
       "                    ... \n",
       "C300 Convertible       1\n",
       "C300 Coupe             1\n",
       "C300 FFV               1\n",
       "C320 4matic Sedan      1\n",
       "DJ Po Vehicle 2WD      1\n",
       "Name: Model, Length: 3608, dtype: int64"
      ]
     },
     "execution_count": 58,
     "metadata": {},
     "output_type": "execute_result"
    }
   ],
   "source": [
    "vehicles_df[\"Model\"].value_counts()"
   ]
  },
  {
   "cell_type": "markdown",
   "metadata": {
    "id": "rcSnpI3I6Fg8"
   },
   "source": [
    "What brand has the worse CO2 Emissions on average?\n",
    "\n",
    "Hint: use the function `sort_values()`"
   ]
  },
  {
   "cell_type": "code",
   "execution_count": 61,
   "metadata": {
    "colab": {
     "base_uri": "https://localhost:8080/",
     "height": 686
    },
    "executionInfo": {
     "elapsed": 270,
     "status": "ok",
     "timestamp": 1623145362738,
     "user": {
      "displayName": "Ignacio Soteras",
      "photoUrl": "",
      "userId": "02050793736257155229"
     },
     "user_tz": -120
    },
    "id": "SV2s8Lm66Fg8",
    "outputId": "ca1f005a-f090-4cec-952f-8e20d3193b46"
   },
   "outputs": [
    {
     "data": {
      "text/plain": [
       "3071      22.990791\n",
       "3069      24.854909\n",
       "3070      24.854909\n",
       "7916      31.690010\n",
       "7917      31.690010\n",
       "            ...    \n",
       "20897    788.877073\n",
       "20894    788.877073\n",
       "20898    788.877073\n",
       "20896    788.877073\n",
       "20895    788.877073\n",
       "Name: CO2 Emission Grams/Mile, Length: 35952, dtype: float64"
      ]
     },
     "execution_count": 61,
     "metadata": {},
     "output_type": "execute_result"
    }
   ],
   "source": [
    "## your Code here\n",
    "vehicles_df[\"CO2 Emission Grams/Mile\"].sort_values()\n"
   ]
  },
  {
   "cell_type": "code",
   "execution_count": 70,
   "metadata": {},
   "outputs": [
    {
     "data": {
      "text/plain": [
       "Make                            Lamborghini\n",
       "Model                              Countach\n",
       "Year                                   1987\n",
       "Engine Displacement                     5.2\n",
       "Cylinders                              12.0\n",
       "Transmission                   Manual 5-spd\n",
       "Drivetrain                 Rear-Wheel Drive\n",
       "Vehicle Class                   Two Seaters\n",
       "Fuel Type                           Premium\n",
       "Fuel Barrels/Year                 47.087143\n",
       "City MPG                                  6\n",
       "Highway MPG                              10\n",
       "Combined MPG                              7\n",
       "CO2 Emission Grams/Mile          788.877073\n",
       "Fuel Cost/Year                         5800\n",
       "Name: 20895, dtype: object"
      ]
     },
     "execution_count": 70,
     "metadata": {},
     "output_type": "execute_result"
    }
   ],
   "source": [
    "vehicles_df.loc [20895]\n",
    "#the car with the highest fuel consumption is the 1987 Lamborghini Countach"
   ]
  },
  {
   "cell_type": "code",
   "execution_count": 73,
   "metadata": {},
   "outputs": [
    {
     "data": {
      "text/plain": [
       "Make                            Lamborghini\n",
       "Model                              Countach\n",
       "Year                                   1986\n",
       "Engine Displacement                     5.2\n",
       "Cylinders                              12.0\n",
       "Transmission                   Manual 5-spd\n",
       "Drivetrain                 Rear-Wheel Drive\n",
       "Vehicle Class                   Two Seaters\n",
       "Fuel Type                           Premium\n",
       "Fuel Barrels/Year                 47.087143\n",
       "City MPG                                  6\n",
       "Highway MPG                              10\n",
       "Combined MPG                              7\n",
       "CO2 Emission Grams/Mile          788.877073\n",
       "Fuel Cost/Year                         5800\n",
       "Name: 20894, dtype: object"
      ]
     },
     "execution_count": 73,
     "metadata": {},
     "output_type": "execute_result"
    }
   ],
   "source": [
    "vehicles_df.loc [20894]\n",
    "##on average, Lamborghinis have the worst CO2 emissions"
   ]
  },
  {
   "cell_type": "code",
   "execution_count": 75,
   "metadata": {},
   "outputs": [
    {
     "data": {
      "text/plain": [
       "Make                                              BMW\n",
       "Model                                          i3 REX\n",
       "Year                                             2016\n",
       "Engine Displacement                               0.6\n",
       "Cylinders                                         2.0\n",
       "Transmission                           Automatic (A1)\n",
       "Drivetrain                           Rear-Wheel Drive\n",
       "Vehicle Class                         Subcompact Cars\n",
       "Fuel Type                  Premium Gas or Electricity\n",
       "Fuel Barrels/Year                             1.56319\n",
       "City MPG                                           41\n",
       "Highway MPG                                        37\n",
       "Combined MPG                                       39\n",
       "CO2 Emission Grams/Mile                     22.990791\n",
       "Fuel Cost/Year                                   1050\n",
       "Name: 3071, dtype: object"
      ]
     },
     "execution_count": 75,
     "metadata": {},
     "output_type": "execute_result"
    }
   ],
   "source": [
    "vehicles_df.loc[3071]\n",
    "#the car with the lowest fuel consumption is the 2016 BMW i3 REX"
   ]
  },
  {
   "cell_type": "markdown",
   "metadata": {
    "id": "2avLmljX6Fg9"
   },
   "source": [
    "Do cars with automatic transmission consume more fuel than cars with manual transmission on average?"
   ]
  },
  {
   "cell_type": "code",
   "execution_count": 13,
   "metadata": {},
   "outputs": [],
   "source": [
    "## Your Code is here \n"
   ]
  }
 ],
 "metadata": {
  "colab": {
   "name": "Pandas_Grouping_Joining_Cars_Structure.ipynb",
   "provenance": []
  },
  "kernelspec": {
   "display_name": "Python 3 (ipykernel)",
   "language": "python",
   "name": "python3"
  },
  "language_info": {
   "codemirror_mode": {
    "name": "ipython",
    "version": 3
   },
   "file_extension": ".py",
   "mimetype": "text/x-python",
   "name": "python",
   "nbconvert_exporter": "python",
   "pygments_lexer": "ipython3",
   "version": "3.9.7"
  },
  "toc": {
   "base_numbering": 1,
   "nav_menu": {},
   "number_sections": true,
   "sideBar": true,
   "skip_h1_title": false,
   "title_cell": "Table of Contents",
   "title_sidebar": "Contents",
   "toc_cell": false,
   "toc_position": {},
   "toc_section_display": true,
   "toc_window_display": false
  },
  "varInspector": {
   "cols": {
    "lenName": 16,
    "lenType": 16,
    "lenVar": 40
   },
   "kernels_config": {
    "python": {
     "delete_cmd_postfix": "",
     "delete_cmd_prefix": "del ",
     "library": "var_list.py",
     "varRefreshCmd": "print(var_dic_list())"
    },
    "r": {
     "delete_cmd_postfix": ") ",
     "delete_cmd_prefix": "rm(",
     "library": "var_list.r",
     "varRefreshCmd": "cat(var_dic_list()) "
    }
   },
   "types_to_exclude": [
    "module",
    "function",
    "builtin_function_or_method",
    "instance",
    "_Feature"
   ],
   "window_display": false
  }
 },
 "nbformat": 4,
 "nbformat_minor": 1
}
