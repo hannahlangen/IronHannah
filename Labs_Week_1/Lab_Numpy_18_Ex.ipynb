{
 "cells": [
  {
   "cell_type": "code",
   "execution_count": null,
   "id": "7ebb12b4",
   "metadata": {},
   "outputs": [],
   "source": [
    "# numpy exercises\n",
    "\n",
    "This is a collection of exercises that have been collected in the numpy mailing list, on stack overflow\n",
    "and in the numpy documentation. The goal of this collection is to offer a quick reference for both old\n",
    "and new users but also to provide a set of exercises for those who teach.\n",
    "\n",
    "\n",
    "If you find an error or think you've a better way to solve some of them, feel\n",
    "free to open an issue at <https://github.com/rougier/numpy-100>.\n",
    "File automatically generated. See the documentation to update questions/answers/hints programmatically.\n"
   ]
  },
  {
   "cell_type": "code",
   "execution_count": 1,
   "id": "f2d6430f",
   "metadata": {},
   "outputs": [],
   "source": [
    "#### 1. Import the numpy package under the name `np` (★☆☆)\n",
    "import numpy as np"
   ]
  },
  {
   "cell_type": "code",
   "execution_count": 3,
   "id": "dfa9bc4a",
   "metadata": {},
   "outputs": [
    {
     "data": {
      "text/plain": [
       "array([0., 0., 0., 0., 0., 0., 0., 0., 0., 0.])"
      ]
     },
     "execution_count": 3,
     "metadata": {},
     "output_type": "execute_result"
    }
   ],
   "source": [
    "#### 2. Create a null vector of size 10 (★☆☆)\n",
    "np.zeros(10)"
   ]
  },
  {
   "cell_type": "code",
   "execution_count": 111,
   "id": "27865d57",
   "metadata": {},
   "outputs": [
    {
     "name": "stdout",
     "output_type": "stream",
     "text": [
      "[0. 0. 0. 0. 1. 0. 0. 0. 0. 0.]\n"
     ]
    }
   ],
   "source": [
    "#### 3. Create a null vector of size 10 but the fifth value which is 1 (★☆☆)\n",
    "a = np.zeros(10)\n",
    "a[4] = (1)\n",
    "print(a)"
   ]
  },
  {
   "cell_type": "code",
   "execution_count": 23,
   "id": "9dcb54af",
   "metadata": {},
   "outputs": [
    {
     "data": {
      "text/plain": [
       "array([10, 11, 12, 13, 14, 15, 16, 17, 18, 19, 20, 21, 22, 23, 24, 25, 26,\n",
       "       27, 28, 29, 30, 31, 32, 33, 34, 35, 36, 37, 38, 39, 40, 41, 42, 43,\n",
       "       44, 45, 46, 47, 48, 49])"
      ]
     },
     "execution_count": 23,
     "metadata": {},
     "output_type": "execute_result"
    }
   ],
   "source": [
    "#### 4. Create a vector with values ranging from 10 to 49 (★☆☆)\n",
    "np.arange(10,50)"
   ]
  },
  {
   "cell_type": "code",
   "execution_count": 26,
   "id": "2bec034a",
   "metadata": {},
   "outputs": [
    {
     "data": {
      "text/plain": [
       "array([[0, 1, 2],\n",
       "       [3, 4, 5],\n",
       "       [6, 7, 8]])"
      ]
     },
     "execution_count": 26,
     "metadata": {},
     "output_type": "execute_result"
    }
   ],
   "source": [
    "#### 5. Create a 3x3 matrix with values ranging from 0 to 8 (★☆☆)\n",
    "np.arange(0,9).reshape(3,3)"
   ]
  },
  {
   "cell_type": "code",
   "execution_count": 28,
   "id": "8a03ea49",
   "metadata": {},
   "outputs": [
    {
     "data": {
      "text/plain": [
       "(array([0, 1, 4]),)"
      ]
     },
     "execution_count": 28,
     "metadata": {},
     "output_type": "execute_result"
    }
   ],
   "source": [
    "#### 6. Find indices of non-zero elements from [1,2,0,0,4,0] (★☆☆)\n",
    "np.nonzero([1,2,0,0,4,0])"
   ]
  },
  {
   "cell_type": "code",
   "execution_count": 29,
   "id": "a9204135",
   "metadata": {},
   "outputs": [
    {
     "data": {
      "text/plain": [
       "array([[1., 0., 0.],\n",
       "       [0., 1., 0.],\n",
       "       [0., 0., 1.]])"
      ]
     },
     "execution_count": 29,
     "metadata": {},
     "output_type": "execute_result"
    }
   ],
   "source": [
    "#### 7. Create a 3x3 identity matrix (★☆☆)\n",
    "np.eye(3,3)"
   ]
  },
  {
   "cell_type": "code",
   "execution_count": 31,
   "id": "1ffbf1b2",
   "metadata": {},
   "outputs": [
    {
     "data": {
      "text/plain": [
       "array([[[0.12332987, 0.97000189, 0.66623417],\n",
       "        [0.23239086, 0.99728114, 0.82171739],\n",
       "        [0.91182497, 0.57851749, 0.18981033]],\n",
       "\n",
       "       [[0.14550414, 0.32332327, 0.50021511],\n",
       "        [0.93683432, 0.73578862, 0.30882448],\n",
       "        [0.15847475, 0.19034913, 0.67309136]],\n",
       "\n",
       "       [[0.11212644, 0.09695346, 0.75149319],\n",
       "        [0.93607087, 0.81625849, 0.10680413],\n",
       "        [0.43370476, 0.35199958, 0.09805569]]])"
      ]
     },
     "execution_count": 31,
     "metadata": {},
     "output_type": "execute_result"
    }
   ],
   "source": [
    "#### 8. Create a 3x3x3 array with random values (★☆☆)\n",
    "np.random.random([3,3,3])"
   ]
  },
  {
   "cell_type": "code",
   "execution_count": 47,
   "id": "795c2fac",
   "metadata": {},
   "outputs": [
    {
     "name": "stdout",
     "output_type": "stream",
     "text": [
      "0.0026801132071160305\n",
      "0.9928355840639528\n"
     ]
    }
   ],
   "source": [
    "#### 9. Create a 10x10 array with random values and find the minimum and maximum values (★☆☆)\n",
    "a = np.random.random((10,10))\n",
    "print(a.min())\n",
    "print(a.max())"
   ]
  },
  {
   "cell_type": "code",
   "execution_count": 50,
   "id": "1b9da47d",
   "metadata": {},
   "outputs": [
    {
     "data": {
      "text/plain": [
       "0.4947583761208098"
      ]
     },
     "execution_count": 50,
     "metadata": {},
     "output_type": "execute_result"
    }
   ],
   "source": [
    "#### 10. Create a random vector of size 30 and find the mean value (★☆☆)\n",
    "\n",
    "np.mean(np.random.random(30))"
   ]
  },
  {
   "cell_type": "code",
   "execution_count": 53,
   "id": "2a4969e2",
   "metadata": {},
   "outputs": [
    {
     "data": {
      "text/plain": [
       "array([[0, 0, 0, 0, 0],\n",
       "       [1, 0, 0, 0, 0],\n",
       "       [0, 2, 0, 0, 0],\n",
       "       [0, 0, 3, 0, 0],\n",
       "       [0, 0, 0, 4, 0]])"
      ]
     },
     "execution_count": 53,
     "metadata": {},
     "output_type": "execute_result"
    }
   ],
   "source": [
    "#### 11. Create a 5x5 matrix with values 1,2,3,4 just below the diagonal (★☆☆)\n",
    "np.diag(1+np.arange(4),k=-1)"
   ]
  },
  {
   "cell_type": "code",
   "execution_count": 56,
   "id": "8c0d1881",
   "metadata": {},
   "outputs": [
    {
     "name": "stdout",
     "output_type": "stream",
     "text": [
      "[[ 0.91352148 -1.11624512  0.80617021 -1.73668843  1.73428707]\n",
      " [ 0.70830561 -1.13887354 -1.30916157  1.48261368 -0.87303782]\n",
      " [-0.07701465  0.46541898  1.28240792 -1.04987077  0.55452413]\n",
      " [ 0.89745805 -0.16757217  1.35591593 -1.59574789 -0.25783183]\n",
      " [-0.18609271 -0.04274094  0.25775351  0.13630685 -1.043806  ]]\n"
     ]
    }
   ],
   "source": [
    "#### 12. Normalize a 5x5 random matrix (★☆☆)\n",
    "x = np.random.random((5,5))\n",
    "print((x - np.mean(x))/(np.std(x)))\n"
   ]
  },
  {
   "cell_type": "code",
   "execution_count": 67,
   "id": "35148cae",
   "metadata": {},
   "outputs": [
    {
     "data": {
      "text/plain": [
       "array([], dtype=float64)"
      ]
     },
     "execution_count": 67,
     "metadata": {},
     "output_type": "execute_result"
    }
   ],
   "source": [
    "#### 13. How to find common values between two arrays? (★☆☆)\n",
    "\n",
    "a = np.random.random([6,5])\n",
    "b = np.random.random([6,5])\n",
    "np.intersect1d(a,b)"
   ]
  },
  {
   "cell_type": "code",
   "execution_count": 78,
   "id": "046928f3",
   "metadata": {},
   "outputs": [
    {
     "data": {
      "text/plain": [
       "array([0.08103038, 0.12152153, 0.32171168, 0.50405956, 0.52885767,\n",
       "       0.53327946, 0.61742557, 0.83370469, 0.89133696, 0.89695534])"
      ]
     },
     "execution_count": 78,
     "metadata": {},
     "output_type": "execute_result"
    }
   ],
   "source": [
    "#### 14. Create a random vector of size 10 and sort it (★★☆)\n",
    "np.sort(np.random.random(10))\n"
   ]
  },
  {
   "cell_type": "code",
   "execution_count": 92,
   "id": "4e1d7110",
   "metadata": {},
   "outputs": [
    {
     "name": "stdout",
     "output_type": "stream",
     "text": [
      "[0.44804918 0.80374921 0.9615085  0.45232086 0.         0.57781411\n",
      " 0.85407004 0.39299162 0.52063853 0.55830496]\n"
     ]
    }
   ],
   "source": [
    "#### 15. Create random vector of size 10 and replace the maximum value by 0 (★★☆)\n",
    "c = np.random.random(10)\n",
    "c[c.argmax()] = 0\n",
    "print(c)"
   ]
  },
  {
   "cell_type": "code",
   "execution_count": 107,
   "id": "d63a58df",
   "metadata": {},
   "outputs": [
    {
     "name": "stdout",
     "output_type": "stream",
     "text": [
      "[[ 0.25753203  0.34506171  0.35935922 -0.02207855 -0.43385557 -0.30786598\n",
      "  -0.12535828  0.19259591  0.18698271 -0.4523732 ]\n",
      " [ 0.04459315 -0.30787359  0.15835661  0.29128019  0.45968517  0.34707079\n",
      "  -0.27190767 -0.46109898 -0.44146633  0.18136067]\n",
      " [ 0.18373588  0.06786304  0.21467767 -0.13828279  0.37045355 -0.12929517\n",
      "  -0.35980422 -0.22361507  0.21626413 -0.20199702]\n",
      " [ 0.25570673  0.05182843  0.21596984  0.00906593  0.13993403  0.06395445\n",
      "  -0.60088792 -0.02885382  0.26749819 -0.37421585]\n",
      " [ 0.13104597  0.27584341 -0.23156065 -0.04088933 -0.21846394 -0.56865889\n",
      "   0.23977935  0.1895699  -0.04181189  0.26514606]]\n"
     ]
    }
   ],
   "source": [
    "#### 16. Subtract the mean of each row of a matrix (★★☆)\n",
    "d = np.random.rand(5,10)\n",
    "e = d-np.mean(d,axis=1,keepdims=True)\n",
    "print(e)"
   ]
  },
  {
   "cell_type": "code",
   "execution_count": 142,
   "id": "fc269c70",
   "metadata": {},
   "outputs": [
    {
     "name": "stdout",
     "output_type": "stream",
     "text": [
      "[9995 9996 9997 9998 9999]\n"
     ]
    }
   ],
   "source": [
    "#### 17. How to get the n largest values of an array (★★★)\n",
    "Z = np.arange(10000)\n",
    "np.random.shuffle(Z)\n",
    "n = 5\n",
    "print (Z[np.argsort(Z)[-n:]])"
   ]
  },
  {
   "cell_type": "code",
   "execution_count": 144,
   "id": "c0138c28",
   "metadata": {},
   "outputs": [
    {
     "name": "stdout",
     "output_type": "stream",
     "text": [
      "[[0.491428   0.2430255  0.59731985]\n",
      " [0.14334539 0.57984164 0.39729789]\n",
      " [0.79811424 0.01923917 0.64743421]\n",
      " [0.50181162 0.72073523 0.88613483]\n",
      " [0.77858729 0.48351326 0.4797761 ]]\n"
     ]
    }
   ],
   "source": [
    "#### 18. Create a random 5*3 matrix and replace items that are larger than 4 by their squares ( Example:  6 --> 36) \n",
    "\n",
    "f = np.random.rand(5,3)\n",
    "g = np.where(f > 4,f**2,f)\n",
    "print(f)"
   ]
  },
  {
   "cell_type": "code",
   "execution_count": null,
   "id": "11c5d83f",
   "metadata": {},
   "outputs": [],
   "source": []
  }
 ],
 "metadata": {
  "kernelspec": {
   "display_name": "Python 3 (ipykernel)",
   "language": "python",
   "name": "python3"
  },
  "language_info": {
   "codemirror_mode": {
    "name": "ipython",
    "version": 3
   },
   "file_extension": ".py",
   "mimetype": "text/x-python",
   "name": "python",
   "nbconvert_exporter": "python",
   "pygments_lexer": "ipython3",
   "version": "3.9.7"
  }
 },
 "nbformat": 4,
 "nbformat_minor": 5
}
