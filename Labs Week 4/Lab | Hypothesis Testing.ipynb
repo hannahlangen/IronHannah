{
 "cells": [
  {
   "cell_type": "markdown",
   "id": "034c8c46",
   "metadata": {},
   "source": [
    "- It is assumed that the mean systolic blood pressure is μ = 120 mm Hg. In the Honolulu Heart Study, a sample of n = 100 people had an average systolic blood pressure of 130.1 mm Hg with a standard deviation of 21.21 mm Hg. Is  the group significantly different (with respect to systolic blood pressure!)  from the regular population?\n",
    "\n",
    "- Set up the hypothesis test.\n",
    "- Write down all the steps followed for setting up the test.\n",
    "- Calculate the test statistic by hand and also code it in Python. It should be # 4.76190. What decision can you make based on this calculated value?"
   ]
  },
  {
   "cell_type": "code",
   "execution_count": 2,
   "id": "84c47de7",
   "metadata": {},
   "outputs": [],
   "source": [
    "from scipy import stats\n",
    "import numpy as np\n",
    "import pandas as pd"
   ]
  },
  {
   "cell_type": "markdown",
   "id": "1a065d1b",
   "metadata": {},
   "source": [
    "population mean: μ = 120\n",
    "\n",
    "sample size : n = 100 \n",
    "\n",
    "sample mean: x̅ = 130.1\n",
    "\n",
    "Standard Deviation sample: σn = 21.21\n",
    "\n",
    "### Two-Sided Test: Hypotheses \n",
    "\n",
    "H0: μ = x̅ (The group is not significantly different from the rest of the population)\n",
    "\n",
    "Ha: μ != x̅ (The group is significantly different from the population)\n",
    "\n",
    "### Test Statistic (t) [calculated by hand]\n",
    "\n",
    "t = (130.1 - 120)/((21.21)/sqrt(100))\n",
    "t = 10.1/2.121\n",
    "\n",
    "t = 4.76\n",
    "\n",
    "\n",
    "### Confidence Level \n",
    "\n",
    "95% -> significance level α = 0.025 (α = 0.05/2 because it´s a two-sided test)\n",
    "\n",
    "\n",
    "### T-table Critical Value (tc)\n",
    "for df = 100-1 = 99 and α = 0.025\n",
    "\n",
    "tc = 1.984 \n"
   ]
  },
  {
   "cell_type": "code",
   "execution_count": 3,
   "id": "dd6040da",
   "metadata": {},
   "outputs": [
    {
     "name": "stdout",
     "output_type": "stream",
     "text": [
      "Our t score is: 4.76\n"
     ]
    }
   ],
   "source": [
    "#Test Statistic (t) [using python]\n",
    "\n",
    "sample_mean = 130.1\n",
    "pop_mean = 120\n",
    "sample_std_dev = 21.21\n",
    "\n",
    "t = ( sample_mean - pop_mean ) / ( sample_std_dev / np.sqrt(100) )\n",
    "print(\"Our t score is: {:.2f}\".format(t))"
   ]
  },
  {
   "cell_type": "code",
   "execution_count": 4,
   "id": "8e7093e8",
   "metadata": {},
   "outputs": [
    {
     "data": {
      "text/plain": [
       "-1.9842169515086827"
      ]
     },
     "execution_count": 4,
     "metadata": {},
     "output_type": "execute_result"
    }
   ],
   "source": [
    "# T-table Critical Value (tc) [using python]\n",
    "\n",
    "tc = +-stats.t.ppf(1-(0.05/2),df=99)\n",
    "tc"
   ]
  },
  {
   "cell_type": "markdown",
   "id": "0349d546",
   "metadata": {},
   "source": [
    "### Result"
   ]
  },
  {
   "cell_type": "markdown",
   "id": "b74dc161",
   "metadata": {},
   "source": [
    "t = 4.76 > +-1.98 =tc\n",
    "\n",
    "t is larger than tc\n",
    "\n",
    "The H0 can be rejected, because the group is significantly different from the population."
   ]
  },
  {
   "cell_type": "markdown",
   "id": "15297edc",
   "metadata": {},
   "source": [
    "\n",
    "In a packing plant, a machine packs cartons with jars. It is supposed that a new machine will pack faster on the average than the machine currently used. To test that hypothesis, the times it takes each machine to pack ten cartons are recorded. The results, in seconds, are shown in the tables in the file Data/machine.txt. Assume that there is sufficient evidence to conduct the t test, does the data provide sufficient evidence to show if one machine is better than the other\n"
   ]
  },
  {
   "cell_type": "code",
   "execution_count": 10,
   "id": "b7d25687",
   "metadata": {},
   "outputs": [
    {
     "ename": "SyntaxError",
     "evalue": "invalid syntax (1310423556.py, line 1)",
     "output_type": "error",
     "traceback": [
      "\u001b[0;36m  File \u001b[0;32m\"/var/folders/jl/wz2cfppd1qv9v95b9l5nqm3w0000gn/T/ipykernel_12058/1310423556.py\"\u001b[0;36m, line \u001b[0;32m1\u001b[0m\n\u001b[0;31m    New Machine\t  Old Machine\u001b[0m\n\u001b[0m        ^\u001b[0m\n\u001b[0;31mSyntaxError\u001b[0m\u001b[0;31m:\u001b[0m invalid syntax\n"
     ]
    }
   ],
   "source": [
    "New Machine\t  Old Machine\n",
    "42.1\t        42.7\n",
    "41\t            43.6\n",
    "41.3\t        43.8\n",
    "41.8\t        43.3\n",
    "42.4\t        42.5\n",
    "42.8\t        43.5\n",
    "43.2\t        43.1\n",
    "42.3\t        41.7\n",
    "41.8\t        44\n",
    "42.7\t        44.1"
   ]
  },
  {
   "cell_type": "code",
   "execution_count": 16,
   "id": "530e8de6",
   "metadata": {},
   "outputs": [
    {
     "ename": "FileNotFoundError",
     "evalue": "[Errno 2] No such file or directory: 'Data/machine.txt'",
     "output_type": "error",
     "traceback": [
      "\u001b[0;31m---------------------------------------------------------------------------\u001b[0m",
      "\u001b[0;31mFileNotFoundError\u001b[0m                         Traceback (most recent call last)",
      "\u001b[0;32m/var/folders/jl/wz2cfppd1qv9v95b9l5nqm3w0000gn/T/ipykernel_12058/3925174978.py\u001b[0m in \u001b[0;36m<module>\u001b[0;34m\u001b[0m\n\u001b[0;32m----> 1\u001b[0;31m \u001b[0mlist\u001b[0m \u001b[0;34m=\u001b[0m \u001b[0mopen\u001b[0m\u001b[0;34m(\u001b[0m\u001b[0;34m'Data/machine.txt'\u001b[0m\u001b[0;34m)\u001b[0m\u001b[0;34m.\u001b[0m\u001b[0mread\u001b[0m\u001b[0;34m(\u001b[0m\u001b[0;34m)\u001b[0m\u001b[0;34m\u001b[0m\u001b[0;34m\u001b[0m\u001b[0m\n\u001b[0m",
      "\u001b[0;31mFileNotFoundError\u001b[0m: [Errno 2] No such file or directory: 'Data/machine.txt'"
     ]
    }
   ],
   "source": [
    "list = open('Data/machine.txt').read()"
   ]
  },
  {
   "cell_type": "code",
   "execution_count": null,
   "id": "baf94c71",
   "metadata": {},
   "outputs": [],
   "source": []
  }
 ],
 "metadata": {
  "kernelspec": {
   "display_name": "Python 3 (ipykernel)",
   "language": "python",
   "name": "python3"
  },
  "language_info": {
   "codemirror_mode": {
    "name": "ipython",
    "version": 3
   },
   "file_extension": ".py",
   "mimetype": "text/x-python",
   "name": "python",
   "nbconvert_exporter": "python",
   "pygments_lexer": "ipython3",
   "version": "3.9.7"
  },
  "toc": {
   "base_numbering": 1,
   "nav_menu": {},
   "number_sections": true,
   "sideBar": true,
   "skip_h1_title": false,
   "title_cell": "Table of Contents",
   "title_sidebar": "Contents",
   "toc_cell": false,
   "toc_position": {},
   "toc_section_display": true,
   "toc_window_display": false
  }
 },
 "nbformat": 4,
 "nbformat_minor": 5
}
