{
 "cells": [
  {
   "cell_type": "code",
   "execution_count": null,
   "id": "ac944429",
   "metadata": {},
   "outputs": [],
   "source": [
    "c_id = \"0fa088921bd742aab7e1d22a2968ee0c\"\n",
    "c_se = \"9224dee015014ec4ad37a1755908aff0\""
   ]
  },
  {
   "cell_type": "code",
   "execution_count": null,
   "id": "d766c3f5",
   "metadata": {},
   "outputs": [],
   "source": [
    "<iframe src=\"https://open.spotify.com/embed/playlist/2WrqbQt0mpUlyEnxQBmVfs\" width=\"300\" height=\"380\" frameborder=\"0\" allowtransparency=\"true\" allow=\"encrypted-media\"></iframe>"
   ]
  }
 ],
 "metadata": {
  "kernelspec": {
   "display_name": "Python 3 (ipykernel)",
   "language": "python",
   "name": "python3"
  },
  "language_info": {
   "codemirror_mode": {
    "name": "ipython",
    "version": 3
   },
   "file_extension": ".py",
   "mimetype": "text/x-python",
   "name": "python",
   "nbconvert_exporter": "python",
   "pygments_lexer": "ipython3",
   "version": "3.9.7"
  },
  "toc": {
   "base_numbering": 1,
   "nav_menu": {},
   "number_sections": true,
   "sideBar": true,
   "skip_h1_title": false,
   "title_cell": "Table of Contents",
   "title_sidebar": "Contents",
   "toc_cell": false,
   "toc_position": {},
   "toc_section_display": true,
   "toc_window_display": false
  }
 },
 "nbformat": 4,
 "nbformat_minor": 5
}
