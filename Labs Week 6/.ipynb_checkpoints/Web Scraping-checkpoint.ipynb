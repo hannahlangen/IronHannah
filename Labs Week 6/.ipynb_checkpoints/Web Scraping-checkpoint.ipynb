{
 "cells": [
  {
   "cell_type": "code",
   "execution_count": null,
   "id": "28bc8b20",
   "metadata": {},
   "outputs": [],
   "source": [
    "from bs4 import BeautifulSoup\n",
    "import requests\n",
    "import pandas as pd\n",
    "import numpy as np"
   ]
  },
  {
   "cell_type": "code",
   "execution_count": null,
   "id": "7443c448",
   "metadata": {},
   "outputs": [],
   "source": [
    "# 2. find url and store it in a variable\n",
    "url = \"https://www.billboard.com/charts/hot-100/#\""
   ]
  },
  {
   "cell_type": "markdown",
   "id": "3f9efeed",
   "metadata": {},
   "source": [
    "<b> using request package"
   ]
  },
  {
   "cell_type": "code",
   "execution_count": null,
   "id": "028f1ec1",
   "metadata": {},
   "outputs": [],
   "source": [
    "# 3. download html with a get request \n",
    "response = requests.get(url)"
   ]
  },
  {
   "cell_type": "code",
   "execution_count": null,
   "id": "9726c45a",
   "metadata": {},
   "outputs": [],
   "source": [
    "response.content"
   ]
  },
  {
   "cell_type": "code",
   "execution_count": null,
   "id": "acda50c9",
   "metadata": {},
   "outputs": [],
   "source": [
    "response.status_code # 200 status code means OK!"
   ]
  },
  {
   "cell_type": "code",
   "execution_count": null,
   "id": "74d6d9cd",
   "metadata": {},
   "outputs": [],
   "source": [
    "#parse html (create the 'soup')\n",
    "soup = BeautifulSoup(response.content, \"html.parser\")\n",
    "#check that the html code looks like it should\n",
    "soup"
   ]
  },
  {
   "cell_type": "code",
   "execution_count": null,
   "id": "7eb1047d",
   "metadata": {},
   "outputs": [],
   "source": [
    "#initialize empty lists\n",
    "title = []\n",
    "artist = []"
   ]
  },
  {
   "cell_type": "code",
   "execution_count": null,
   "id": "cfca8bcf",
   "metadata": {},
   "outputs": [],
   "source": [
    "for t in soup.find_all(\"h3\", class_=\"c-title a-no-trucate a-font-primary-bold-s u-letter-spacing-0021 u-font-size-23@tablet lrv-u-font-size-16 u-line-height-125 u-line-height-normal@mobile-max a-truncate-ellipsis u-max-width-245 u-max-width-230@tablet-only u-letter-spacing-0028@tablet\"):\n",
    "    title.append(t.get_text())\n",
    "title"
   ]
  },
  {
   "cell_type": "code",
   "execution_count": null,
   "id": "b184b366",
   "metadata": {},
   "outputs": [],
   "source": [
    "for t in soup.find_all(\"h3\", class_=\"c-title a-no-trucate a-font-primary-bold-s u-letter-spacing-0021 lrv-u-font-size-18@tablet lrv-u-font-size-16 u-line-height-125 u-line-height-normal@mobile-max a-truncate-ellipsis u-max-width-330 u-max-width-230@tablet-only\"):\n",
    "    title.append(t.get_text())\n",
    "title"
   ]
  },
  {
   "cell_type": "code",
   "execution_count": null,
   "id": "59625dd3",
   "metadata": {},
   "outputs": [],
   "source": [
    "len(title)"
   ]
  },
  {
   "cell_type": "code",
   "execution_count": null,
   "id": "103e9a8a",
   "metadata": {},
   "outputs": [],
   "source": [
    "for a in soup.select(\".c-label.a-no-trucate\"):\n",
    "    artist.append(a.get_text())\n",
    "artist"
   ]
  },
  {
   "cell_type": "code",
   "execution_count": null,
   "id": "2dc02969",
   "metadata": {},
   "outputs": [],
   "source": [
    "len(artist)"
   ]
  },
  {
   "cell_type": "code",
   "execution_count": null,
   "id": "62fc4fca",
   "metadata": {},
   "outputs": [],
   "source": []
  },
  {
   "cell_type": "code",
   "execution_count": null,
   "id": "93eaf621",
   "metadata": {},
   "outputs": [],
   "source": [
    "# each list becomes a column\n",
    "top_100 = pd.DataFrame({\"title\":title,\n",
    "                       \"artist\":artist\n",
    "                      })\n",
    "top_100.head()"
   ]
  },
  {
   "cell_type": "code",
   "execution_count": null,
   "id": "e108dd29",
   "metadata": {},
   "outputs": [],
   "source": [
    "top_100 = top_100.replace('\\n','', regex=True)"
   ]
  },
  {
   "cell_type": "code",
   "execution_count": null,
   "id": "288f262a",
   "metadata": {},
   "outputs": [],
   "source": [
    "top_100"
   ]
  },
  {
   "cell_type": "markdown",
   "id": "f8ba311b",
   "metadata": {},
   "source": [
    "### User experience:\n",
    "\n",
    "- What happens if the user inputs a song that doesn't exist?\n",
    "- What do we do with songs that have the same name, but a different artist?\n",
    "- How do we deal with typos?\n",
    "\n",
    "### Architecture:\n",
    "\n",
    "- Do we build the interaction with the user in the same notebook as the web-scraping?\n",
    "- Where do we store the scraped songs?\n",
    "- Scheduling / Automation:\n",
    "\n",
    "- Should we scrape billboard / wikipedia every time a user sends a request?\n",
    "\n",
    "### Testing:\n",
    "\n",
    "- Does it work when you test it with a real user (a colleague)?\n",
    "- Chances are that more issues will appear, and that not all of them will be solved during this session. But what's important is that the issues have been identified."
   ]
  },
  {
   "cell_type": "code",
   "execution_count": null,
   "id": "5cdf82fe",
   "metadata": {},
   "outputs": [],
   "source": [
    "user_song_input = input(\"Please enter a song title: \")\n",
    "user_artist_input = input(\"And the artist of the song: \")\n",
    "\n",
    "for i in range(len(top_100['title'])):\n",
    "    if top_100['title'][i] == user_song_input and top_100['artist'][i] == user_artist_input:\n",
    "        print(\"Your song \" + user_song_input + \" belongs to the Hot100\")\n",
    "        print(\"Another song from the Top100 that you might like:\", np.random.choice(top_100['title']))\n",
    "    elif top_100['title'][i] == user_song_input and top_100['artist'][i] != user_artist_input:\n",
    "        print(\"The song is in the Top100, but from a different artist: \",top_100['artist'][i])\n",
    "        print(\"Another song from the Top100 that you might like:\", np.random.choice(top_100['title']))"
   ]
  },
  {
   "cell_type": "code",
   "execution_count": null,
   "id": "f32608c8",
   "metadata": {},
   "outputs": [],
   "source": [
    "user_song_input = input(\"Please enter a song title: \")\n",
    "\n",
    "if top_100['title'].str.contains(user_input).any():\n",
    "    if top_100['title']\n",
    "    print('Your song belongs to the Hot100')    \n",
    "    print(\"Another song from the Top100 that you might like:\", np.random.choice(top_100['title']))\n",
    "else:\n",
    "    print(\"Your song is not in the Hot100\")"
   ]
  },
  {
   "cell_type": "code",
   "execution_count": null,
   "id": "181e5a40",
   "metadata": {},
   "outputs": [],
   "source": [
    "options = input()\n",
    "while options not in (top_100['title']):\n",
    "    print (\"You typed something wrong!\")\n",
    "    break\n",
    "    print (input(\"Please try again: \"))"
   ]
  },
  {
   "cell_type": "code",
   "execution_count": null,
   "id": "5a92cc5f",
   "metadata": {},
   "outputs": [],
   "source": [
    "top_100.index[top_100['title'] == user_song_input].tolist()"
   ]
  },
  {
   "cell_type": "code",
   "execution_count": null,
   "id": "d4474ddd",
   "metadata": {},
   "outputs": [],
   "source": [
    "top_100['title'].unique()"
   ]
  },
  {
   "cell_type": "code",
   "execution_count": null,
   "id": "86fd6a15",
   "metadata": {},
   "outputs": [],
   "source": [
    "#JaroWinkler Distance für Fehler "
   ]
  },
  {
   "cell_type": "code",
   "execution_count": null,
   "id": "3fcaf18b",
   "metadata": {},
   "outputs": [],
   "source": [
    "#What do we do with songs that have the same name, but a different artist?\n",
    "\n",
    "user_input = input(\"Please enter a song title: \")\n",
    "\n",
    "if top_100['title'].str.contains(user_input).any():\n",
    "    artists_of_song = list(top_100['artist'][top_100['title'] == user_song_input].values)\n",
    "    if len(artists_of_song) == 1:\n",
    "        song_artist = artists_of_song[0]\n",
    "        print(\"Your song is by\",song_artist,\"and belongs to the Hot100\")\n",
    "        print(\"Another song from the Top100 that you might like:\", np.random.choice(top_100['title']))\n",
    "    elif len(artists_of_song) > 1:\n",
    "        song_artist1 = artists_of_song[0]\n",
    "        song_artist2 = artists_of_song[1]\n",
    "        print(\"Your song belongs to the Hot100, but has two different interprets: \",song_artist1, \"&\", song_artist2)\n",
    "        print(\"Another song from the Top100 that you might like:\", np.random.choice(top_100['title']))\n",
    "else:\n",
    "    print(\"Your song is not in the Hot100\")"
   ]
  },
  {
   "cell_type": "code",
   "execution_count": null,
   "id": "ae28d879",
   "metadata": {},
   "outputs": [],
   "source": [
    "top_100.to_excel(r'billboard_top100.xlsx', index = False)"
   ]
  },
  {
   "cell_type": "code",
   "execution_count": null,
   "id": "840543dd",
   "metadata": {},
   "outputs": [],
   "source": []
  },
  {
   "cell_type": "code",
   "execution_count": null,
   "id": "e781f2ae",
   "metadata": {},
   "outputs": [],
   "source": []
  },
  {
   "cell_type": "code",
   "execution_count": null,
   "id": "55d15bae",
   "metadata": {},
   "outputs": [],
   "source": []
  },
  {
   "cell_type": "code",
   "execution_count": null,
   "id": "7393ed8f",
   "metadata": {},
   "outputs": [],
   "source": []
  }
 ],
 "metadata": {
  "kernelspec": {
   "display_name": "Python 3 (ipykernel)",
   "language": "python",
   "name": "python3"
  },
  "language_info": {
   "codemirror_mode": {
    "name": "ipython",
    "version": 3
   },
   "file_extension": ".py",
   "mimetype": "text/x-python",
   "name": "python",
   "nbconvert_exporter": "python",
   "pygments_lexer": "ipython3",
   "version": "3.9.7"
  },
  "toc": {
   "base_numbering": 1,
   "nav_menu": {},
   "number_sections": true,
   "sideBar": true,
   "skip_h1_title": false,
   "title_cell": "Table of Contents",
   "title_sidebar": "Contents",
   "toc_cell": false,
   "toc_position": {},
   "toc_section_display": true,
   "toc_window_display": false
  }
 },
 "nbformat": 4,
 "nbformat_minor": 5
}
